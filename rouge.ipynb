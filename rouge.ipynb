{
 "cells": [
  {
   "cell_type": "code",
   "execution_count": 4,
   "id": "7e761820",
   "metadata": {},
   "outputs": [
    {
     "name": "stderr",
     "output_type": "stream",
     "text": [
      "Device set to use mps:0\n"
     ]
    },
    {
     "name": "stdout",
     "output_type": "stream",
     "text": [
      "Generated Summary:\n",
      " the Eiffel Tower is one of the most iconic landmarks in the world, located in Paris, France . Originally built for the 1889 Exposition Universelle, it was meant\n",
      "\n",
      "ROUGE Scores:\n",
      "rouge1: 0.5490\n",
      "rouge2: 0.2857\n",
      "rougeL: 0.3529\n",
      "rougeLsum: 0.3529\n"
     ]
    }
   ],
   "source": [
    "from transformers import pipeline\n",
    "import evaluate  # Only need this now\n",
    "\n",
    "# Load summarization pipeline (T5 or BART)\n",
    "summarizer = pipeline(\"summarization\", model=\"t5-base\")\n",
    "\n",
    "# Sample long input text\n",
    "text = (\n",
    "    \"The Eiffel Tower is one of the most iconic landmarks in the world, \"\n",
    "    \"located in Paris, France. Originally built for the 1889 Exposition Universelle, \"\n",
    "    \"it was meant to be temporary but became a permanent symbol of French culture.\"\n",
    ")\n",
    "\n",
    "# Generate summary\n",
    "summary = summarizer(text, max_length=40, min_length=20, do_sample=False)[0][\"summary_text\"]\n",
    "print(\"Generated Summary:\\n\", summary)\n",
    "\n",
    "# Reference summary (e.g., human-written)\n",
    "reference = (\n",
    "    \"The Eiffel Tower, built for the 1889 World's Fair in Paris, was meant to be temporary \"\n",
    "    \"but became a lasting symbol of France.\"\n",
    ")\n",
    "\n",
    "# Load ROUGE metric\n",
    "rouge = evaluate.load(\"rouge\")\n",
    "\n",
    "# Compute ROUGE score\n",
    "results = rouge.compute(predictions=[summary], references=[reference])\n",
    "\n",
    "print(\"\\nROUGE Scores:\")\n",
    "for key, value in results.items():\n",
    "    print(f\"{key}: {value:.4f}\")\n"
   ]
  },
  {
   "cell_type": "code",
   "execution_count": null,
   "id": "3568764f",
   "metadata": {},
   "outputs": [],
   "source": []
  }
 ],
 "metadata": {
  "kernelspec": {
   "display_name": "nlp_env",
   "language": "python",
   "name": "python3"
  },
  "language_info": {
   "codemirror_mode": {
    "name": "ipython",
    "version": 3
   },
   "file_extension": ".py",
   "mimetype": "text/x-python",
   "name": "python",
   "nbconvert_exporter": "python",
   "pygments_lexer": "ipython3",
   "version": "3.10.16"
  }
 },
 "nbformat": 4,
 "nbformat_minor": 5
}
