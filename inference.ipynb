{
 "cells": [
  {
   "cell_type": "code",
   "execution_count": 3,
   "id": "4b343681",
   "metadata": {},
   "outputs": [],
   "source": [
    "import warnings\n",
    "warnings.filterwarnings(\"ignore\")"
   ]
  },
  {
   "cell_type": "code",
   "execution_count": 4,
   "id": "0449cb71",
   "metadata": {},
   "outputs": [],
   "source": [
    "from transformers import pipeline"
   ]
  },
  {
   "cell_type": "markdown",
   "id": "b97d13f4",
   "metadata": {},
   "source": [
    "Bert"
   ]
  },
  {
   "cell_type": "code",
   "execution_count": 12,
   "id": "cd057d66",
   "metadata": {},
   "outputs": [
    {
     "name": "stderr",
     "output_type": "stream",
     "text": [
      "No model was supplied, defaulted to distilbert/distilbert-base-uncased-finetuned-sst-2-english and revision 714eb0f (https://huggingface.co/distilbert/distilbert-base-uncased-finetuned-sst-2-english).\n",
      "Using a pipeline without specifying a model name and revision in production is not recommended.\n",
      "Device set to use mps:0\n"
     ]
    }
   ],
   "source": [
    "classifier = pipeline(\"sentiment-analysis\")  # BERT-based"
   ]
  },
  {
   "cell_type": "code",
   "execution_count": 6,
   "id": "066e57ce",
   "metadata": {},
   "outputs": [
    {
     "name": "stdout",
     "output_type": "stream",
     "text": [
      "Sentiment: {'label': 'POSITIVE', 'score': 0.9994327425956726}\n"
     ]
    }
   ],
   "source": [
    "# BERT: Sentiment Classification\n",
    "print(\"Sentiment:\", classifier(\"I love using transformers!\")[0])"
   ]
  },
  {
   "cell_type": "markdown",
   "id": "888c3b55",
   "metadata": {},
   "source": [
    "GPT"
   ]
  },
  {
   "cell_type": "code",
   "execution_count": 28,
   "id": "124a1868",
   "metadata": {},
   "outputs": [
    {
     "name": "stderr",
     "output_type": "stream",
     "text": [
      "Device set to use mps:0\n",
      "Setting `pad_token_id` to `eos_token_id`:50256 for open-end generation.\n"
     ]
    },
    {
     "name": "stdout",
     "output_type": "stream",
     "text": [
      "\n",
      "GPT-2 Output:\n",
      "Once upon a time when the majority of the population is free of the pressures that confront them, the people have seen a world where they can live with\n"
     ]
    }
   ],
   "source": [
    "generator = pipeline(\"text-generation\", model=\"gpt2\")  # GPT-2\n",
    "# GPT-2: Text Generation\n",
    "print(\"\\nGPT-2 Output:\")\n",
    "print(generator(\"Once upon a time\", truncation=True, max_length=30, do_sample=True)[0][\"generated_text\"])"
   ]
  },
  {
   "cell_type": "markdown",
   "id": "511311f5",
   "metadata": {},
   "source": [
    "T5"
   ]
  },
  {
   "cell_type": "code",
   "execution_count": null,
   "id": "2fbb5148",
   "metadata": {},
   "outputs": [
    {
     "name": "stdout",
     "output_type": "stream",
     "text": [
      "the T5 model converts all NLP problems into a text-to-text format\n"
     ]
    }
   ],
   "source": [
    "summarizer = pipeline(\"summarization\", model=\"t5-base\")  # T5\n",
    "# Text to summarize\n",
    "text = \"\"\"\n",
    "The T5 model was proposed in the paper \"Exploring the Limits of Transfer Learning with a Unified \n",
    "Text-to-Text Transformer\". The T5 model is an encoder-decoder model that converts all NLP problems \n",
    "into a text-to-text format. It was pre-trained on a large dataset called the Colossal Clean Crawled \n",
    "Corpus (C4), which contains 750GB of text data.\n",
    "\"\"\"\n",
    "\n",
    "# Generate summary\n",
    "summary = summarizer(text, max_length=20, min_length=10, do_sample=False)\n",
    "\n",
    "# Print the summary\n",
    "print(summary[0][\"summary_text\"])"
   ]
  },
  {
   "cell_type": "code",
   "execution_count": null,
   "id": "a2e888ab",
   "metadata": {},
   "outputs": [],
   "source": []
  }
 ],
 "metadata": {
  "kernelspec": {
   "display_name": "nlp_env",
   "language": "python",
   "name": "python3"
  },
  "language_info": {
   "codemirror_mode": {
    "name": "ipython",
    "version": 3
   },
   "file_extension": ".py",
   "mimetype": "text/x-python",
   "name": "python",
   "nbconvert_exporter": "python",
   "pygments_lexer": "ipython3",
   "version": "3.10.16"
  }
 },
 "nbformat": 4,
 "nbformat_minor": 5
}
